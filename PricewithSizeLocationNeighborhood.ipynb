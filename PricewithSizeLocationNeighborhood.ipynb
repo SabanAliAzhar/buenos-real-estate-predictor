{
  "nbformat": 4,
  "nbformat_minor": 0,
  "metadata": {
    "colab": {
      "provenance": []
    },
    "kernelspec": {
      "name": "python3",
      "display_name": "Python 3"
    },
    "language_info": {
      "name": "python"
    }
  },
  "cells": [
    {
      "cell_type": "code",
      "execution_count": null,
      "metadata": {
        "id": "C0m3S6wuEaih"
      },
      "outputs": [],
      "source": [
        "import warnings\n",
        "from glob import glob\n",
        "\n",
        "import pandas as pd\n",
        "import seaborn as sns\n",
        "import wqet_grader\n",
        "from category_encoders import OneHotEncoder\n",
        "from IPython.display import VimeoVideo\n",
        "from ipywidgets import Dropdown, FloatSlider, IntSlider, interact\n",
        "from sklearn.impute import SimpleImputer\n",
        "from sklearn.linear_model import LinearRegression, Ridge  # noqa F401\n",
        "from sklearn.metrics import mean_absolute_error\n",
        "from sklearn.pipeline import make_pipeline\n",
        "from sklearn.utils.validation import check_is_fitted\n",
        "\n",
        "warnings.simplefilter(action=\"ignore\", category=FutureWarning)"
      ]
    },
    {
      "cell_type": "code",
      "source": [
        "#import\n",
        "def wrangle(filepath):\n",
        "    # Read CSV file\n",
        "    df = pd.read_csv(filepath)\n",
        "\n",
        "    # Subset data: Apartments in \"Capital Federal\", less than 400,000\n",
        "    mask_ba = df[\"place_with_parent_names\"].str.contains(\"Capital Federal\")\n",
        "    mask_apt = df[\"property_type\"] == \"apartment\"\n",
        "    mask_price = df[\"price_aprox_usd\"] < 400_000\n",
        "    df = df[mask_ba & mask_apt & mask_price]\n",
        "\n",
        "    # Subset data: Remove outliers for \"surface_covered_in_m2\"\n",
        "    low, high = df[\"surface_covered_in_m2\"].quantile([0.1, 0.9])\n",
        "    mask_area = df[\"surface_covered_in_m2\"].between(low, high)\n",
        "    df = df[mask_area]\n",
        "\n",
        "    # Split \"lat-lon\" column\n",
        "    df[[\"lat\", \"lon\"]] = df[\"lat-lon\"].str.split(\",\", expand=True).astype(float)\n",
        "    df.drop(columns=\"lat-lon\", inplace=True)\n",
        "\n",
        "    # Get place name\n",
        "    df[\"neighborhood\"] = df[\"place_with_parent_names\"].str.split(\"|\", expand=True)[3]\n",
        "    df.drop(columns=[\"place_with_parent_names\",\"expenses\",\"floor\",\"operation\",\"property_type\",\"currency\",\"properati_url\"], inplace=True)\n",
        "\n",
        "    df.drop(columns=['price',\n",
        "                     'price_aprox_local_currency',\n",
        "                     'price_per_m2',\n",
        "                     'price_usd_per_m2','surface_total_in_m2','rooms'],inplace=True)\n",
        "\n",
        "    return df"
      ],
      "metadata": {
        "id": "m8jIwWKMEpO6"
      },
      "execution_count": null,
      "outputs": []
    },
    {
      "cell_type": "code",
      "source": [
        "files = glob(\"data/buenos-aires-real-estate-*.csv\")\n",
        "frames = [wrangle(file) for file in files]\n",
        "#create a dataframe\n",
        "df = pd.concat(frames,ignore_index=True)\n",
        "print(df.info())\n",
        "df.head()"
      ],
      "metadata": {
        "id": "BanVtuHGEuna"
      },
      "execution_count": null,
      "outputs": []
    },
    {
      "cell_type": "code",
      "source": [
        "#Exploring dataset\n",
        "df.isnull().sum()/len(df)\n",
        "#check for correlation between features using headmap\n",
        "corr = df.select_dtypes(\"number\").drop(columns=\"price_aprox_usd\").corr()\n",
        "sns.heatmap(corr)"
      ],
      "metadata": {
        "id": "Ba_dSRN3E0zA"
      },
      "execution_count": null,
      "outputs": []
    },
    {
      "cell_type": "code",
      "source": [
        "#split data\n",
        "target = \"price_aprox_usd\"\n",
        "features=['surface_covered_in_m2','lat','lon','neighborhood']\n",
        "y_train=df[target]\n",
        "X_train=df[features]\n",
        "#baseline model\n",
        "y_mean=y_train.mean()\n",
        "y_pred_baseline=[y_mean]*len(y_train)\n",
        "print(\"Mean apt price:\", y_mean)\n",
        "print(\"Baseline MAE:\", mean_absolute_error(y_train,y_pred_baseline))\n"
      ],
      "metadata": {
        "id": "Uytcajj6E6F9"
      },
      "execution_count": null,
      "outputs": []
    },
    {
      "cell_type": "code",
      "source": [
        "#creating a pipeline\n",
        "model = make_pipeline(\n",
        "    OneHotEncoder(use_cat_names=True),\n",
        "    SimpleImputer(),\n",
        "\n",
        "    Ridge()\n",
        ")\n",
        "model.fit(X_train, y_train)"
      ],
      "metadata": {
        "id": "tnrLu3BaFDbo"
      },
      "execution_count": null,
      "outputs": []
    },
    {
      "cell_type": "code",
      "source": [
        "#model prediction\n",
        "y_pred_training=model.predict(X_train)\n",
        "print(\"Training MAE:\", mean_absolute_error(y_train,y_pred_training))\n",
        "X_test = pd.read_csv(\"data/buenos-aires-test-features.csv\")\n",
        "y_pred_test = pd.Series(model.predict(X_test))\n",
        "y_pred_test.head()"
      ],
      "metadata": {
        "id": "lsYF7cF0FHuB"
      },
      "execution_count": null,
      "outputs": []
    },
    {
      "cell_type": "code",
      "source": [
        "def make_prediction(area, lat, lon, neighborhood):\n",
        "    data={\n",
        "\n",
        "        \"surface_covered_in_m2\":area,\n",
        "        \"lat\":lat,\n",
        "        \"lon\":lon,\n",
        "        \"neighborhood\":neighborhood\n",
        "    }\n",
        "    df=pd.DataFrame(data,index=[0])\n",
        "    prediction =model.predict(df).round(2)[0]\n",
        "    return f\"Predicted apartment price: ${prediction}\"\n",
        "\n",
        "interact(\n",
        "make_prediction,\n",
        "    area=IntSlider(\n",
        "        min=X_train[\"surface_covered_in_m2\"].min(),\n",
        "        max=X_train[\"surface_covered_in_m2\"].max(),\n",
        "        value=X_train[\"surface_covered_in_m2\"].mean()\n",
        "    ),\n",
        "    lat=FloatSlider(\n",
        "        min=X_train[\"lat\"].min(),\n",
        "        max=X_train[\"lat\"].max(),\n",
        "        step=0.01,\n",
        "        value=X_train[\"lat\"].mean()\n",
        "\n",
        "    ),\n",
        "    lon=FloatSlider(\n",
        "        min=X_train[\"lon\"].min(),\n",
        "        max=X_train[\"lon\"].max(),\n",
        "        step=0.01,\n",
        "        value=X_train[\"lon\"].mean()\n",
        "    ),\n",
        "    neighborhood=Dropdown(options=sorted(X_train[\"neighborhood\"].unique())),\n",
        "\n",
        ");"
      ],
      "metadata": {
        "id": "CJqF0llEFIYh"
      },
      "execution_count": null,
      "outputs": []
    },
    {
      "cell_type": "markdown",
      "source": [
        "![image.png](data:image/png;base64,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)"
      ],
      "metadata": {
        "id": "kGIB52MGFOnH"
      }
    },
    {
      "cell_type": "markdown",
      "source": [],
      "metadata": {
        "id": "AgiGIrGaFb2K"
      }
    },
    {
      "cell_type": "markdown",
      "source": [
        "![image.png](data:image/png;base64,iVBORw0KGgoAAAANSUhEUgAAAmwAAAGlCAYAAABHmqrEAAAAAXNSR0IArs4c6QAAAARnQU1BAACxjwv8YQUAAAAJcEhZcwAADsMAAA7DAcdvqGQAAE/NSURBVHhe7d13dFTV2gbwZ0p6T0hCSQiEFjoBpKj0IkpHRPACChZApCnNBihVBEUjTXpRFJDeEhCkIxB6DRAIgZCQhNRJm8yc7w+GucxOUGYm893h8Pyy3rsW+7wzIQRvHvY+ex+FJEkSiIiIiMhuKcUBIiIiIrIvDGxEREREdk5hyZJobm4uDhw4gLy8PDg7O6N58+ZwcXGBVqvFkSNHkJ6eDgBo0KABgoKCAAB37txBdHQ0AKBMmTJo1KiRyXvaTNxitG81DRi/H1EfBItXiYiIiOyexTNszs7OaN++PV555RW4uLgAAE6fPg1/f3907doV7du3x40bN5CbmwsACAoKQteuXdGgQQPhnUrSXxgZOhJ/PTYSH7kWNRYtRY0NkYh/bPx/Kx6LO4Ri5J/iOBEREVFRFgc2kVarhVarRWBgIADAxcUFLi4uSE1NFVuLSE1NxbZt23Dnzh3x0tOLW4z2oQOBRXPQ0jgYj8gNNdCtTSXUwlpExhlGf26P0MeC3V+fhCK0w+KHgS5uMdqHhiI0NNSk51HIejgeitBPHo+FRd/znwXjvV1LgfcZ2oiIiOjflVhgA4DCwkLjjFpqairu378vtthG3GK0b7UWvfbFYk6bx8cjsbZmN7REMF7pAayNfDjHFvxBFPaPv4RpP8cDcYsx7eJn2L/rPQTjL4xsdQGfxcYiNjYWsYuAgY+C3J+zMa3m0ofjsbGInf3fWGiZlpgTux+1vg1F+5/tZ+6PiIiI7E+JBTYHBwfUqlULZ86cwebNm3HhwgX4+PiIbcXy8/NDp06djPe7meXPkQhtdQGfxUbhvRDTS/GRa4FqlQAAwa/0Ah5bFg3+YAl6bWiB0FZr0WvhewgGgD83YQu2YOCjWbT3t/z3zSrXQuWNA/87EycI/iAKsbGPz+49jWC8t2v/w9+HMGNHRERE9EiJBTY8Fry6du2KF198ETAsjdpUmzmI3VcL00LbY7FhyfOheERuuI7rM1o8DF+tpuF6zH+XRR/qgi7dH/81gO6PzaLFxiJ2lyHMhbyHqNhYxC4E3g19bAnVKvFY3KEF1vbYXwIzdkRERCRXJRrYHnft2jU4ODjAz89PvFSE1fewhbyHqH29sLbVY/eExUViLT7D/sfC19Lu13Hh+sPLf33SAmt7fII5w3thbSvDvWdtuqHLxmlC8BOEvIeo2KXoEnMBNx4bNu8eNhg2SLTAhTGx3L1KRERE/6hEA9udO3ewefNmbN68GdnZ2f9/R3fgv0EK7z8MTfGRa3G9ZuWHs2MGLV/rgi07/kL8z+0x8OJnWPJBMBDyHpaMv4SBoSPxF1pizqIamNbqv5sLHt1f9jCQPRofiEvjPzFz+fNx8VjcYSCwSLjnjoiIiKgYFp/Ddvz4cTRq1MjsJc87d+4gISHh/zfMERERET3DLJ5hy8vLQ1RUFCIjI407Q//Jo9m3R4fnEhEREdHTsWiGjYiIiIj+/1g8w0ZERERE/z8Y2IiIiIjsHAMbERERkZ1jYCMiIiKycwxsRERERHaOgY2IiIjIzjGwEREREdk5BjYiIiIiO8fARkRERGTnGNiIiIiI7BwDGxEREZGdY2AjIiIisnMMbERERER2joGNiIiIyM4xsBERERHZOQY2IiIiIjvHwEZERERk5xjYiIiIiOycLAObXq/HgwcPcOvWLTx48AB6vd54TafT4dKlSyb9RERERPZMIUmSJA4+yyRJwpUrV/DLL78gKSkJQUFBeOWVV1CvXj04OzsjPT0dr7/+Ov7880/xpURERER2SXYzbIWFhVi8eDGuXr2KWrVq4cGDB5g3bx7279+P/Px8aLVaHDlyRHwZERERkd2S3Qxbbm4uWrRogYiICDRu3BhJSUlYt24dDh06hAEDBqBOnToIDQ1Fbm6u+FIiIiIiuyS7GTYAKCgogL+/PwAgMDAQ/fr1Q9u2bfH9999j3759YjsRERGRXZNdYFMoFChXrhwuXrxoHPPy8kKfPn3w5ptvYvLkySb9RERERPZOdoHNwcEBb7zxBu7cuWMy7ubmhr59++Lzzz9HkyZNTK4RERER2TPZ3cP2JOKXqVAoTH5NREREZK9kG9gkSUJ2djYePHiA7OxsFBQUGMeVSiXq1asnvoSIiIjILsk2sKWkpGD58uXYsmULcnJyjDNqkiTBwcEBR48eFV9CREREZJdkG9j+/vtvfPHFF+jduzdeeOEFODo6Gq8pFApUq1bNpJ+IiIjIXsk2sB07dgw///wzvv76awQFBYmXiYiI/qfu3r2Lw4cPIyEhAc7OzujSpQvKli0rtgGGxypevnwZBw8eRG5uLqpWrYoXX3wRvr6+YivJlGrSpEmTxEE5UCqVSE5Oxp07d+Di4oL8/HxkZWUhKysL2dnZ8PDwEF9CRET0/+bs2bPYunUrkpKSsHbtWrRt2xblypUT2wAAt27dwpdffom0tDRIkoR9+/ahsLAQVatWNVlBIvmS7QxbVlYWli9fjsWLF8PV1RWOjo7G+9gcHBywe/du8SVERET/b1JTU5GSkgKNRoO33noLq1atwgsvvCC2AQBmzpyJPXv2YOHChfDw8MAvv/yCw4cP46uvvkL16tXFdpIh2Z3D9siNGzewfft2tG/fHmPHjsX48eMxbtw4jBs3DqNHjxbbiYiI/l/5+fmhWrVqxifz/JP9+/ejWbNmqFixIkqVKoVmzZohNTUVycnJRY6tInmSbWDLyMiAh4cHRo0ahS5duuCVV14xVrt27cR2IiKiEqHVapGdnW28DUej0aCwsFBsM0tCQoLJcqmvry/UajUePHgAvV5v0kvyJNsl0XPnzmHp0qV45513ULt27SIH5SqVT59V9fnZ0GXdF4dJBg5vP4mfJ6wRh0kGFAAU4AHZcvXm+L7oPKSHOGw1beotQLIuAK34YxfGfz4BGo0GABAcHIxvvvkG3bt3F1sBAPHx8WjXrt0/LonWq1cPI0aMwIABAwDDPW2DBg3CkCFD0LlzZ6hUKvElJDNPn1qeMZ6enkhNTcXHH3+MGTNm4Oeff8aiRYuwaNEiLF26VGwnIiIC9Dqrq3///oiLi0NycjKSk5Nx+vRpdO7cWfxMZilTpgwSEhKMv05LS0NhYSF8fHzMmoCgZ5dsv8tpaWm4e/cuAODPP//E2rVr8fvvv+P333/H+vXrxXYiIqKHs2tWloNaDTc3N7i7u8Pd3R1ubm5Qq9XiZ4JOp0N2djY0Gg30ej1ycnKQk5MDnU6HpKQkXLlyBVqtFgDQvHlzHDp0CHfu3EFaWhqOHj0KHx8f+Pv7F1lBInmS7ZLo00hNTUVsbCzq1q37j9uiuSQqX1wSlS8uicqbzZZE7197OFNmBbVfBSgcnMXhIu7cuYMVK1YgIyMDy5YtQ8+ePVGvXj20bdsWhw4dQmRkJH744Qf4+/vj+vXrGD16NMqWLYuAgABcuHABbdu2xX/+8x8eU/WckO0M29O4du0aFixYYLzPgIiInnP6ojNmZtdT0uv10Gg0UKvVeP/99+Hj44Pc3FzodDpUq1YN7dq1g4uLCwCgYsWKmDhxIkJDQ6FSqdC7d2/07NmTYe058lzPsB06dAgRERGYP3/+P54WzRk2+eIMm3xxhk3ebDXDVpB4xeoZNgf/UCgcHgYtopLyXM+wERERmdDrAUmyrohsgIGNiIjoEUlfZNen2cXMRjbAwEZERERk557rwKZQKHjYIBER/Zc4W2ZJcYqNbEDWgU2n0yErKwspKSnGAwyTk5ORkpICAAgLC8PIkSO5y4aIiB4Sd3xaUkQ2INtdonl5eThx4gSioqKQkJBgPHwQANRqtVlPO+AuUfniLlH54i5RebPZLtHbpw2zZJZzKFsDCkdXcZjIKrKdYYuNjcXs2bNx8+ZNVKlSBeHh4caqV6+e2E5ERPRwl6i4xGluyXMehP7HZBvYHjx4ALVaja+++grjx4/HqFGjjDV8+HCxnYiICJJeb3UR2YJsA5unpyfKlSuHnJwc8RIREVHxxDPVLCluOiAbkG1gc3FxQUpKCiZPnozvvvsOS5YswdKlS7F06VKsWLFCbCciIgKgLxrAzC7xPYmsJ9vAlpOTg8TERCQkJGDXrl3YsGED/vjjD/zxxx/YuHGj2E5ERFQy97AR2YBsd4lqtVpkZWWJw4Dh/DUfHx9x+Im4S1S+uEtUvrhLVN5stUs0P+YwoC8Uh83iWKE+FM48LopKluxm2HS6h/+6UavV8PLyKrY8PT3FlxERERmWRK0sIhuQXWDr168fsrOzcfHiRbz55pvF1n/+8x/xZURERIYlUStLlutW9L8mu8AWHh4OtVoNDw8PNGjQoNiqX78+YJiNy8nJgUxXhYmIyFz8cUB2Srb3sD2N27dv4++//0anTp3g4uIiXjbiPWzyxXvY5Iv3sMmbze5hu7QP0P33yTiWcKzcBAoX3npDJUt2M2zmuH37Nv744w/k5uaKl4iI6Hkk6Ys5psPMIrKB5zqwAeByKBER/ZckQZL01pX4nkQl4LkPbERERI9Ikq7ork+zi5GNSh4DGxER0SOSvuhBuOYWkQ0894FNoeBNyUREZFAik2Ml8iZEJp7rwKZQKBjYiIjov4osb1pQRDYgu8B27969f63ExEQAwEsvvYQ1a9bA19dXfBsiInoeicublhTvYSMbkN05bG3atDHOmmk0GuTk5MDd3R2Ojo7QaDTQaDQICgpCZGSk+NIn4jls8sVz2OSL57DJm63OYcs7tcX6c9hqtIbS7emfV030NGQ3wzZkyBAMHjwYffr0QWhoKMLCwtC7d28MGDAAXbt2hbe3N+rUqSO+jIiI6OGSpjhjZm4R2YDsAlvPnj3Rs2dPhIeHw9XVFZ9//jmGDRuG/v374/PPP8eYMWNw8uRJ8WVERESGZ4EWcxiuOUVkA7ILbI9oNBqkpKQUeeSUt7c3rly5YjJGRET0UDEBzNziLlGyAdkGNn9/f6hUKnz33XfYunUrDhw4gNWrV2Py5Mno0qWL2E5ERGSYYbO2xDclsp5sA1vFihUxYsQISJKE6dOnY+TIkVi6dCmaN2+OiRMniu1EREQPiTNm5haRDchul+jjdDodsrOzkZubC71eD7VaDXd3d7i6uoqt/4i7ROWLu0Tli7tE5c1mu0SP/g4UFojDZnEM7wilO4+LopIl2xk2GALb5cuXsXz5cty9exe+vr64fv06EhISxFYiIiJA0kGysrgmSrYg28CWnp6O2bNnY9CgQZg7dy7Onj0LnU6HvXv3YsyYMWI7ERHRw3vYrC35LlzR/5BsA9v169dx5swZzJ07F2+88QaUyodfasuWLXH48GGxnYiIiMhuyTaw5ebmQq1Wo1q1aibjzs7O0Gg0JmNERETAoxm2Yg7DNaeIbEC2gc3V1RUKhQI3btyAJElQKBTIycnBpk2bEB4eLrYTEREZjuUoZuenOUVkA7INbCEhIahbty7mz5+PI0eOYPv27fjiiy+wfft23sNGRERPUEwAM7e46YBsQLaBzc/PD2+99RbatGmDxo0bw8vLC15eXvjyyy/RqlUrsZ2IiMiwacDaEt+UyHqyDWwnT55EREQE2rVrhy+++AJff/01Ro8ejXbt2kGtVovtRERED8OWOGNmbhHZgGwDm1arRVJSEhQKBQICAlCuXDn4+vpCoeBBmkRE9CTibJkFRWQDsg1sFStWREhICDZv3oz8/HzxMhERUVHimWqWFGfZyAZkG9gSEhKwYcMGTJgwAbVq1ULjxo3x4osv4sUXX0SLFi3EdiIiIt5/RnZLts8STUhIwI4dO8RhAIBKpcKAAQPE4Sfis0Tli88SlS8+S1TebPYs0cj5kAqtW5VxevktKL0CxGEiq8g2sAGAXq9Heno6kpOTERAQAG9vb2RmZsLR0REuLi5i+xMxsMkXA5t8MbDJm80C2665kLR54rBZnJr3hdIrUBx+oqtXr+LGjRvQ6/UoX748qlSpUuzPqIKCAly/fh1xcXEoLCyEj48PatasCW9vb96f/RyQ7ZKoVqtFdHQ05syZgy+++AJHjx5FYWEh9u/fj+3bt4vtREREho0Dxez8NKvEN32ymJgYTJgwAatWrcKaNWswa9YsHDx4EIWFhSZ9Op0OZ86cwfTp0/Hbb79hy5Yt+P7777Fq1So+vec5IdvAdvfuXaxevRpZWVnIyMjAvXv3oNfrUVBQgLlz54rtRERExYQvC8oMP/zwA3JycjBx4kRMnjwZpUuXxqZNm5CQkGDSV1BQgL179yIzMxMTJkzA1KlT0aJFC2zYsAHp6ekmvSRPsg1s9+7dw/379/Hhhx+iVq1axuniunXr4uLFi2I7ERFR0SM6LChdYSFyc3ONlZeXB52u6DNGCwsLsW7dOvTq1QthYWEIDQ1FixYtkJycjPj4eJNehUIBFxcX6PV6ODk5wdPTE5IkwdfXl2eLPidkG9gKCwuhVCrh4eFhMp6amgpnZ2eTMSIiIqBkZti2btuKjh07onXr1mjdujX69OmDAwcOiJ8JGRkZSElJQZUqVYxjfn5+0Ol0yMrKMul1cnJCx44dERISgjfeeANt2rTB1q1b8d5778HPz8+kl+RJtoHNz88PKpUKBw8ehF6vh0KhQHJyMr755ht07NhRbCciIjKErqKzZuZU8+bN8dNPP2HRokVYtGgRZsyYgQYNGoifyXifmoODg3FMqXz4Y1ncD6jT6XDt2jVcvXoVffv2xahRoxAQEICNGzciMzPTpJfkSbaBrWrVqujWrRsmTJiARYsW4dNPP0WNGjWQlJSEmTNniu0mCgoKkJmZaSyNRlPkBlAiIpIh8RBcC8rXxwc1atRArVq1UKtWLVSrVg2enp7iZ4KPjw9UKhVSUlKMYzk5OVCpVHBycjLpzc7Oxq+//op27drhww8/xOuvv44vv/wS0dHRuHbtWpGAR/Ij28CmUqnQrVs37N69G8uWLcOECROwfv167N+/v8gyqWjJkiWoVq2asTp16YbDf58U24iIiCzm6OiIZs2aYdeuXcjLy0N+fj6uXLkCBwcHlC5dGjk5OSYbCrRaLQoKClBQUIDCwkLjU3wezcqRvMn2HLaUlBRcuHABFStWRKlSpeDq6vrU59Q8+o/ivwM5UOWnQ6VSPd5GMsBz2OSL57DJm83OYds40/pz2Nq9D6VPGXG4WFFRURgzZgz69+8PJycnREVFoUOHDhg4cCAWL16Mo0ePYtWqVdBqtViyZAnWrl2LXr16wc/PD7t27UJWVhbmzp2LwMCnP/eNnk2qSZMmTRIH5eDq1auYNGkSTpw4gYSEBOTk5EChUMDDw+Nf/zWiUqng6OhoLLVCArS5YhvJQPy1BETvuyAOkwwwsMlbrZfroNoL1cVhqxVePgTorLsFRl2pARQu/7yS80ilSpUQGBiII0eO4O7du+jQoQNef/11eHp64vbt2ygsLETLli3h4OCAqlWrwsnJCSdOnMDly5dRsWJFfPTRRyhfvvy//lyjZ59sZ9geTS0fPXoUp06dQmZmJjw9PY33FLRu3Vp8yRPxSQfyxRk2+WJgkzebzbBtmAGpwMoZtvaDoPR9uhk2oqcl20ju5OSEunXrYvDgwZgxYwaGDRuG8uXLY/78+Rg7dqzYTkREVGQDgUVlzqMOiJ6SbAPbI7m5ubhx4waOHDmC06dPw8fHp9jt1UREREXClyVFZAOyDWwpKSlYuHAh+vfvj9GjR+PKlSvo1KkTIiIiINPb9oiIyGpSCRRRyZNtYIuNjcX69evx0ksv4YcffsA333yDt956Cw0aNECZMry3gIiIiqGXis6YmVvyvDWc/sdkG9gaNmyIHTt2YPjw4ahXrx5KlSpV5CBCIiIiE8U8asrsIrIB2QY2hUIBjUaDbdu2YeTIkXj33Xfx5Zdf4uLFi3xqARERPQEDF9kn2Qa2lJQUzJo1C5MnT0ZmZiZ8fHxw8eJFdO/eHTt37hTbiYiIii5vWlIMfWQDsg1sN2/exLlz5zBz5kwsWbIEs2bNwvr16zFkyBBuOiAiouKVyD1s4psSWU+2gS0vLw+Ojo6oUqWK8ZFUSqUSLVu2xO3bt8V2IiKiYnZ8WlJEJU+2gc3T0xM6nQ47duzAnTt3kJGRgcuXL2P58uVo1KiR2E5ERARJr7e6iGxBtoGtYsWK6NixIzZt2oTBgwfj3XffxfDhw3H79m1MmDBBbCciIjIsiVpZ3ClKNiDbwObl5YVevXrh66+/Rv/+/fHaa69h5MiRmDFjBl544QWxnYiIqOgRHZYUkQ3INrDpdDoAQM2aNdGjRw/07dsXr776KsqUKYOcnByxnYiICIAekKwsIhuQbWC7ePEixo8fj/Pnz0OtVsPR0RFKpRKbN2/G22+/LbYTEREVXd60pIhsQLaBLT09Henp6ahQoYLJeJMmTXD48GGTMSIiopLD0EYlT7aBTaFQoKCgANnZ2Sbj9+/fNx7zQUREZEJXzLlq5hbzGtmAbANbQEAA3Nzc8Pvvv+Ps2bOIiYnB8ePHERERgW7duontRERED+9BEwOYuUVkA7INbOXLl0eXLl1w8uRJTJ06FdOmTcP06dPh6OiI0aNHi+1EREREdku2gc3FxQUdO3bEF198gS5duqBZs2Z4++238e2336JSpUoAgIyMDD4MnoiI/ksvFZ0xM7d4tAfZgGwDGwA4OzsjPDwcffv2xbvvvotu3bohMDDQeD02NhYrV66ERqMxeR0RET2nxDPVLCkiG5B1YPs3Go0Gt27dMp7ZRkREzzkxfFlSRDbwXAc2IiIiE+LypiVFZAMMbERERI9IxRyEa25xlo1sgIGNiIjoEWYtslPPdWBTqVRwdnbmQbpERAQAkPR6q4vIFmQd2AoLC5GYmIjz588jNTUVkiQhNTXV+PSDMmXKoEOHDnB2dhZfSkREz6MSWRIV35TIerINbPn5+Th27BjmzJmD8ePH4+DBgygsLMRff/2FjRs3AgAqVKiAPn36wMXFRXw5ERE9jyTJsC5qTRGVPNkGtrt37+LXX38FAOPMml6vh6OjIxYsWCC2ExERGWbYitn5aU4xtJENyDaw3bt3D2lpaRg0aBDCwsKM96lVr14dMTExYjsREZHhLLViJs3MKSIbkG1gkyQJCoUCjo6OJuMJCQlwd3c3GSMiIgIMj6YSD8I1t4hsQLaBzd/fH46OjtixYwfy8vIgSRKuXLmCKVOm4I033hDbiYiIHgY2nd66YmYjG5BtYKtcuTL69u2Ln3/+GUuWLMGIESPw8ssvw9PTE1999ZXYTkRExDVNsluyDWwqlQpt27bFnj17sHfvXqxevRrHjh3D77//zl2hRERUPEkCJL11xdBHNiDbwJaXl4e7d+9CrVbjpZdeQrdu3VCzZk2kp6cjPj5ebCciIjLs9CzmbDVzinmNbEC2ge3y5cuYOHEiLl++bDK+e/duvP/++yZjREREACDppSJPLjC3iGxBtoEtKysLGo0G5cuXNxkPDw/H6dOnTcaIiIgeMsyQWVMP/4eoRMk2sKnVahQUFOD+/fsm4zExMfDw8DAZIyIiAgy7RMWDcM0t5jWyAdkGtrJly8LPzw8//vgjtm3bhsOHD2P16tWYOXMm3n77bbGdiIio6GyZJUVkA7IObI+C2fTp0zF69GisWrUKHTt2xODBg8V2IiKioofgWlJENiDbwObo6IhGjRphypQpWL58OZYvX44FCxbgo48+gr+/v9hORERUdHnTkiKyAdkGNgBwcHBAQEAAqlSpgmrVqqFixYp8LBURERE9c2Qb2HQ6HU6ePImBAweiatWqKF26NAIDA+Hn54eQkBCxnYiIyHCsh5XFZVGyAdkGttjYWMyePRsODg4IDQ1F9+7dMXToUAQHB+Ojjz4S24mIiIoegmtJmSklJQUxMTG4evUqEhMTodVqxRajvLw8xMfH48qVK7h69Sru378PPZdhnwuyDWyPjvMYP348atWqhQYNGmDs2LGYOHEi9u3bJ7YTERE9JG4iMLfMcO/ePXz55ZcYMmQIhgwZggkTJuDUqVPQ6XRiKzQaDbZu3YpPP/0UI0aMwCeffILff/8dOTk5YivJkGwDmyRJUKvVcHd3h4eHB1JSUpCfn4+QkBBER0eL7URERIaNA8XMmplTZmS2efPm4cKFC5gxYwbmzJkDpVKJ3377DcnJySZ9Op0OJ06cwMqVK9GhQwcsWrQICxYswGuvvQYnJyeTXpIn2QY2T09P+Pn54d69e6hduzaio6MRERGB77//Hg0bNhTbiYiIAJ1UdNenmaXX6ZCfn2+sgoKCYpctdTodVqxYgb59++KFF15AnTp18Oqrr+LOnTu4deuWSW9eXh727NkDZ2dnSJKEDRs24NixY/D09IRarTbpJXmSbWCrUKEC+vXrB39/f7Ro0QLt27dHQkICfHx88NVXX4ntREREhmXNYg7DNaMOHDiAYcOG4YMPPsAHH3yA8ePHF7uyk5WVhbt376JWrVrGMX9/f+j1emRkZJj0FhQU4NSpU4iNjcWJEyeQkZGBtWvXYtGiRcjKyjLpJXmSXWAbNWoUcnJykJubi9zcXPj7+8PPzw9vvfUWPv30U3z++eecYSMiomJJeHhLjTUVUiEEnTp1QteuXdG1a1e0b98eZcuWFT8V8vPzIUkSnJ2djWNqtRqSJBW5h02SJKSnp8PHxweDBw/GsGHD0LNnT2zevBlJSUkmvSRPsgtsa9asQXZ2Nq5du4aVK1eioKAAAODm5obg4GAEBgaKLyEiInpIvB/NgqoQUgGdOnVCt27d0K1btycGNi8vLyiVSqSlpRnH8vLyoFQqi9yXplQqUapUKYSGhqJ69erw9fVF48aNodPpkJCQAMnMzQ707JFdYAsJCcGwYcOwcuVK/P3335g9eza++eYbk5o1a5b4MiIiohKhUCigVCpNSqFQiG1wdnZGvXr1cPDgQeNYXFwcFAoFSpUqZdLr6OiIWrVqIS0tzXjsx4MHD1BQUAA/P79i35/kRXaBbdmyZXBwcMDx48dx79497NixA1u3bjWp7du3iy8jIiIqMltmUZnh008/xdKlS7Fq1Sr88ccfWL16NcLDw1GlShXMnz8f77zzDvR6PVxcXNCtWzfcunULs2fPxoEDB/Ddd9+hTp06KF26tPi2JEMKSabzqAcOHMDSpUsREREBDw8P8bJZch6kIvlGjDhMMnAl+gZ2/3ZIHCYZyMjIRtL9VHGYZOLtzwbg9aG9xGGrZQ7tBiknWxw2i/vE+VBVqCIOP9HixYuxatUqFBYWokuXLnjnnXcQGBiIhQsX4u+//8bixYuhVCqRn5+PvXv3Yv78+UhJSUGjRo0wbNgwhIaGcobtOSDLwCZJEs6cOYMtW7Zg2LBh8PX1FVvMcmzbYfw4lMuocvRSx4b44Os+4jDJwLJftuLDMTPFYZKJaVM/w9gxQ8Vhq2V+2BVSjkYcNov7pHlQVagqDhNZRXZLojDcP6DVahEfH4/09HTxMhERUfH0JbAsSmQDsgxsAODr6wulUomlS5ciKioKx44dw/Hjx3H8+HGcOHFCbCciIipypppFRWQDsg1sGo0G586dw7p16zB9+nRMnToVU6ZMwZQpUzBjxgyxnYiIqMiZapYUQxvZgmwDW/ny5TFjxgwsXLgQEydOxCeffIKPP/4YH3/8MYYPHy62ExERFV3etKSIbEC2gc3HxwctW7Ystlq0aCG2ExERPbyHTWdlMbORDcg2sMXExOCjjz4qtkaOHCm2ExEREdkt2QY2rVaL1NRUYyUlJeHIkSNYu3YtEhMTxXYiIiJIesnqIrIF2Qa2mjVrYs2aNcZat24doqOjMWLECFSuXFlsJyIiMhzrYWUR2YBsA1txFAoFunbtihUrVoiXiIiIih7RYWkRlTDZBrbMzEycOHHCWMePH8fBgwfx+++/Izg4WGwnIiIqsrxpUYlvSlQCZBvY4uPj8f333xvrhx9+wLx583Dx4kV89tlnYjsREVHRmTJLisgGZBvY/P390aNHD7zxxhvo3bs3OnbsiLCwMPTq1Quvvfaa2E5ERARIgGRlMbSRLcg2sGVnZyM+Ph7Vq1fHK6+8gps3b+LAgQOYO3cuoqKixHYiIiJI4gYCS4rIBmQb2BITE3Hq1Cm4u7vj0qVLiI6OxsiRI9GrVy/MnDlTbCciIiq6vGlJEdmAbAObVqtFYWEh3N3dcebMGYSEhKBBgwbo2rUrzpw5I7YTERE9XNbUW1dEtiDbwObq6gqtVosDBw7gyJEjqFChAry8vJCamgoPDw+xnYiI6OGjpcQlTnOLs2xkA7INbKGhoahbty4+/vhjxMXFoXnz5nBzc8OJEyfQunVrsZ2IiIgzbGS3ZBvY/Pz8MHbsWOzfvx9r165FeHg4AKBVq1b4+uuvxXYiIqKi96NZUkQ2INvABgBOTk4oV64cvL29jWNVqlThwblERFQscbbMkmJoI1uQdWAjIiIyh3immkUlvilRCWBgIyIiekRSWF9ENsDARkRE9Ig4W2ZBcYqNbIGBjYiIyMAYuKwpIhtgYCMiInpEr4BkZRHZAgMbERGRgbjj05IisgUGNiIiIgOuaJK9YmAjIiIykCSF1cXUR7bAwEZERGQg6QFJZ2WJb0pUAhjYiIiIHilmxszcIrIFBjYiIiID8Uw1S4pTbGQLDGxEREQGkh5FZszMLSJbYGAjIiIyMmwasKbA0EYlj4GNiIjIQDwE15IisgUGNiIiIgPxfjRLi6ikMbARERER2TkGNiIiIgNxedOSIrIFBjYiIiIDccenJUVkCwxsREREj4g7Pi0pIhtgYCMiIjLQS4Ber7CqGNrIFhjYiIiIDCRJAb2VxbxGtsDARkREZFAyR3LwPjYqeQxsREREj0hFd32aW0S2wMBGRERkIB6Aa0mZsyYqSRKmT5+O4OBglC5dGh9//DHi4+PFNhMJCQno168fKlasiOjoaPEyyRQDGxERkYFkRtgqCYsXL8bixYsxf/58/Prrr7hx4wYWLlyIjIwMsRUAoNFo8Mcff+D27dsoW7aseJlkjIGNiIjIQJKURZY4zS29JEGn05mUVEwSlCQJP/zwA95//3106tQJrVu3Rp8+fXD16lXcuHFDbIdWq8WhQ4dw48YNdO7cGT4+PmILyRgDGxERkYEkociuT3MrJiYGv/76K1auXImVK1diw4YNiIuLEz8VNBoNrly5gsaNGxvHypUrB0mS8ODBA5NeSZJw48YN7NixAy+99BLq1Kljcp3kj4GNiIjIoCSeVJCakopz587h9OnTOH36NC5evIj09HSxDRqNBnq9Hp6ensYxJycn6PV6FBQUFOldt24d/Pz88Oqrr0KhsP73Sc8WBjYiIiIDqQQOzm3cpAmmTp2KWbNmYdasWfj888+LnRFzdXWFQqFAdna2caygoAAKhQIODg4mvSkpKVi6dCnOnj2LCRMmYOHChbh06RK+++47REdHF7vkSvLCwEZERFSCVEolHB0djeXg4AClsuiPWzc3N1SuXBmnTp0yjiUmJkKpVBa5P83LywvDhw9Hs2bNUL58efj7+8PFxQWlS5eGm5ubSS/JU9G/QTJx69YtbNiwAVqt1mQ8Ly8P06dPNxkjIiICrL9/TW/GkqpSqcSQIUOwdOlS/Pnnnzh8+DDWr1+PSpUqITQ0FBs2bMDkyZMhSRK8vb0xePBgDBo0CIMGDUKnTp0QEhKCHj16oEqVKlwifQ7INrDFxcVh8+bNRe4DyM3NxezZs03GiIiIYLiHzeoy40kHH3zwAbp164Zhw4ZhwIAB8Pf3x8CBA+Hj44OrV6/i0KFDkCQJCoUCLi4uxnJ0dIRSqYSzszNUKpX4tiRDsgtskiQhIyMDmZmZyMrKQkZGhrHS0tIQGRkJd3d38WVERERFDsG1pMzh6uqKyZMn49KlS4iJiUFERASqVq0KhUKBTz/9FJGRkcUup7Zr1w7btm1DgwYNxEskU0X/Fjzj8vLyUK1aNbzzzjvYtWsXwsPDERYWhrCwMNSoUQNjxozBmDFjxJeZkCQJer3epIiIiIj+V2QX2JycnLBz505ERESgX79+2LRpE3bs2IEdO3YgKioK0dHRGDp0qPgyE7dv38bevXuNdfb8WeTrTZdWiYhIfsT70SwpIluQXWBTKpUIDw/HG2+8gW+//RaNGzdGWFgYQkNDUb58eTg5OT3xkR+PnDlzBvPmzTPW1l3bkFOYI7YREZHMFLkfzaIS35XIerILbI+oVCokJydj+fLl+OabbzBt2jRMnToVU6dOxYwZM8R2Ex07dsSvv/5qrPGjxsHb0UtsIyIimXn07HZrisgWZBvYEhMTsXTpUuzevRvbtm3DhQsXkJSUhDVr1hR74vTj1Go1nJ2djeXo6AiFGbt+iIjo2SQVs8RpbhHZgmwD2507d3Dt2jUMGTIEjRo1wquvvoqJEydixIgRPBGaiIiKxZ8OZK9kG9jy8vLg4OCAmjVrwtvbGwqFAoGBgejcuTO2bt0qthMREUFC0Rkzc4vIFmQb2B4dLpieno6goCCcOHECMTEx2LJlC1xdXcV2IiKiYjYQWFC8hYZsQLaBLTg4GC1atEBGRgY6d+6MBw8eoEmTJvjyyy8xbdo0sZ2IiIhromS3ZBfYHj3VwMXFBV26dEGlSpXg6emJJUuW4NChQ7h48SLat28vvoyIiAj6EigiW1BIMrsDf9CgQeJQEWq1GnPnzhWHn+jYtsP4cegscZhk4KWODfHB133EYZKBZb9sxYdjZorDJBPTpn6GsWP++RB0Sxyu+g50mRpx2Cz1o76Be51QcZjIKrKbYStTpsy/VunSpcWXERERQQKgl6wrWc2CkN2Q3QybLXCGTb44wyZfnGGTN1vNsB2s+g4KM6ybYWu4+xt4cIaNSpjsZtiIiIgsJUEBPZRWFZEt8G8WERGRAY/kIHvFwEZERGQgFbPr09zifUZkCwxsREREBg8D18PDby0tcJaObICBjYiIiMjOMbAREREZiMublhSRLTCwERERGfAeNrJXDGxEREQGD+9BI7I/DGxEREQGD2fYFFYVkS0wsBERERnooYBeYV1xSZRsgYGNiIjIQCqBIrIFBjYiIiIDMXxZUkS2wMBGRERkIO74tKSIbIGBjYiIiMjOMbAREREZiBsILCkui5ItMLAREREZiPejWVJEtsDARkRE9BgxgJlbRLbAwEZERGSgVxTdRGBuMbSRLTCwERERGUgAJIV1RWQLDGxEREQGeiggWVlEtsDARkREZCAVs8RpbhHZAgMbERGRgV5hffEeNrIFBjYiIiIiO8fARkREZCAub1pSRLbAwEZERGQgnqlmSRHZAgMbERGRgWS4B82aIrIFBjYiIiIDPYpuIjC3eBYb2QIDGxERkYE4W2ZJEdkCAxsREZGBGL4sKSJbYGAjIiIykIpZ4jS3GNrIFhjYiIiIDP4XYevnn3/Gyy+/jCZNmmD69OlISkoSW5Cfn481a9bg9ddfR8OGDdGuXTssXrwYGRkZYivJFAMbERGRgVTMuWrmljnWrVuHr776CoMHD8a4ceOwb98+LF68GDk5OSZ9+fn5OHPmDDp06ID58+ejf//+mDdvHjZu3IiCggKTXpInBjYiIiIDMXxZUpIESJJkUk8yY8YMvPfee+jbty+6d++Ofv364cyZM7h27ZpJn6enJ7755hu8//77eOGFF9CvXz+0bdsW0dHR0Gg0Jr0kTwxsREREBuIGAksqKSkJx44dw5EjR3DkyBFER0cjNTVV/FTIzc3F2bNn0axZM+NYSEgIJElCSkqKSa8oKysLaWlpCAgIgFqtFi+TDDGwERERGYjhy5KKPnUKM2fOxJQpUzBlyhT8+OOPuHz5svipkJmZCb1eDx8fH+OYs7Mz9Ho98vPzTXofp9FosGHDBiQnJ6NNmzZwc3MTW0iGGNiIiIgMxB2fllT7V9pjzZo12LhxIzZu3IhFixahadOm4qeCk5MTFAoF8vLyjGOFhYVQKBRPnDXTaDTYsWMHoqKi8Oabb6JevXpQKvmj/HnA7zIREZGBOFtmSalUKjg7OxvLyckJKpVK/FTw8PBAUFAQLly4YBy7f/8+lEolvLy8THoBICcnBzt27MDGjRvxyiuvoFOnTnB1dRXbSKYY2IiIiAzE8GVJPS2VSoW3334bq1evxokTJ3D27Fns3LkTQUFBCAkJwb59+7BkyRJIkgStVosdO3ZgxYoVaNKkCVq1agW9Xg+NRvOPmxpIPhjYiIiIDMQdn5aUOYYOHYo6depgzJgxGD58OCRJQp8+feDv748TJ05g48aNkCQJGo0GS5YswYEDB7Bs2TK89dZb6NSpEyZOnIj09HTxbUmGFBKj+b86tu0wfhw6SxwmGXipY0N88HUfcZhkYNkvW/HhmJniMMnEtKmfYeyYoeKw1SJqfYD8TNMz0MzVb/tkBNauKA4/0YMHD5CWlgZJkuDp6QlfX1+o1WqkpqYiJycHwcHB0Ol0uHPnjsn9bgDg5uaGMmXKFLvkSvLCGTYiIiIDcQOBJWUuX19fVKpUCZUrVzY5psPPzw/BwcGAYfk0JCQE1apVM6mgoCCGtecEAxsREZGBuLxpSXHZimyBgY2IiIjIzjGwERERGUjFzJiZW0S2wE0HT+HYtsOI4KYDWQqoEYiwV8LEYZKBlAcZiLuTKA6TTPTo2Q0dXntFHLbarNrvI8/KTQfvbpuCMmZsOiB6GgxsT+HYtsP4aehscZhk4FZuCo6l3xCHSQYG/Kcz5n07VhwmmVC5+ULp4i0OW+3bEghs7zGwkQ1wSZSIiMhAPATXkiKyBQY2IiIiA30xAczcIrIFBjYiIqLHiAHMkiIqaQxsREREBuIhuJYUkS0wsBERERnoIVldRLbAwEZERERk5xjYiIiIDKRiDsI1tzjHRrbAwEZERGTwKHBZU0S2wMBGRET0GMnKDyJbYGAjIiIyeLhxoOgypzlFZAsMbERERAb6YpY4LSmiksbARkRE9BgxfJlbRLbAwEZERGTwcFmz6Nlq5hSRLTCwERERGTzaNmBNEdkCAxsREVEJYmgjW2BgIyIiMhB3fFpSjGxkCwxsREREBg+XNa37ILIFBjYiIiID8X40S4rIFhjYiIiIDMQdn5YUQxvZAgMbERGRgThbZkkR2QIDGxER0WPEAGZuEdkCAxsREZGBuLxpSRHZAgMbERGRgXhEhyXFyEa2wMBGREREZOcY2IiIiAzE5U1LisgWGNiIiIgMxA0ElhSRLTCwERERGZTEKWrWvwNRUQxsREREBlIJLIsS2QIDGxERkYG4vGlJEdkCAxsREZGBJEnQW1mMbWQLDGxEREQGj85Rs7aIShoDGxEREZGdY2AjIiIyEDcQWFJEtsDARkREZCAVE8DMLSJbYGAjIiIyEO9Fs7SIShoDGxERkYEYvCwpIltgYCMiIjJ4uKxp3Ye5oqKi8Omnn2Ls2LH4448/kJ6eLrYAAPLy8vDXX3/hiy++wNixY7F27VpkZGSIbSRTDGxERERG/79zZAcPHsTEiRPh6OgILy8v/PLLL9i0aRPy8/NN+vR6PU6dOoVvv/0WWq0WPj4+WLFiBTZv3oy8vDyTXpInBjYiIiIDfQmUOZFv5syZqFOnDkaOHIlhw4ahWbNm2Lt3L27dumXSl5ubi40bN8Lf3x9jx47F0KFD0bJlS2zcuPGJM3IkLwxsREREBpIkWV1abQGys7ORlZWFrKwsaDQaFBYWip8KWq0We/bsQadOneDj4wNPT0/UqVMHubm5uHfvnklvfn4+Ll26hKZNm8LPzw+enp5o1qwZbt26hczMTJNekicGNiIiohK0cuVKVKhQAQEBAQgICEB4eDi2bt0qtuHBgwfIz89H2bJljWMeHh7Q6XTIyckx6dXpdEhLS0OpUqWMY35+foDhfSTJnHk9ehYxsBERERmIZ6pZUv3790dcXBySk5ORnJyM06dPo3PnzuKnglL58EewTqczjun1epNrj1MqlcbreOx1KpXqsS6Sq6J/I4iIiJ5T4v1olpTawQFubm5wd3eHu7s73NzcoFarxU8FHx8feHl54ebNm8ax9PR0qFQquLm5mfSqVCqUKlUKCQkJxrGkpCSoVCr4+PhAoVCY9JP8MLARERH9D6jVanTt2hUbNmxAXFwc7t69i2PHjsHb2xtBQUG4du0ajh49CkmS4OzsjPr16+Pw4cO4fv06EhISEBUVhWrVqsHT01N8a5IhBjYiIiIDcXnTkjLHqFGjoNFoMG3aNEydOhUxMTHo2LEjypUrh23btmHWrFnGwNa1a1c4Ojpi2rRpmDZtGq5cuYI333wT3t7e4tuSDDGwERERGUiQoJf0VpU56tati6+//hpNmzZFw4YNMXToULRt2xaOjo5o3rw5+vfvD4VCAaVSiRo1amDcuHFo2bIl6tevj5EjR6JNmzZwdHQU35ZkSCFxa8m/OrbtMH4aOlscJhm4lZuCY+k3xGGSgQH/6Yx5344Vh0kmVG6+ULqU/MxSz5o9ocnUiMNmidgRgcq1K4vDRFbhDBsREZGBVMwmAnOLsyBkCwxsREREBg8f4G7dByMb2YJsA1t+fj62bt2K5s2bw8fHB05OTsby8PAQ24mIiBi2yG7JNrBdunQJ3333HRo0aIAVK1Zg27Ztxtq0aZPYTkREVGTHpyVFZAuyDWzZ2dkoXbo0xo4diy5duqBdu3bGatOmjdhOREQESSqB54mKb0pUAmQb2Pz8/BAUFIS4uDhotVrxMhERURGP34VmaRHZgmwDm1qtxs2bNzFjxgzMmjULP/74o7Hmzp0rtpvQ6XQoKCgwVqFWa/hPmIiI5EzcQGDJB5EtyDaw6fV6eHp6wsvLC1evXsXZs2dx7tw5nDt3DufPnxfbTezduxfDhw831rwlC5CpzRLbiIhIZvQogYNzebwp2YBsD87Ny8vD/fv3xWEAgEKhQHBwsDhsdPnyZZw+fdr467gzsTj56xG4qJxN+ujZx4Nz5YsH58qbrQ7Ofa16V2RnZovDZlm0cz6q1akqDhNZRbYzbM7OzggODoZOp8Pff/+NPXv24PLlywgICPjHsAYAYWFhePPNN43V4uUWDGtERM8B8X40S4rIFmQb2PLy8rB69Wp07twZX3/9NRYtWoTBgwejdevWiIuLE9tNKBQKqFQqYymVsv1jIiKix4hHdFhSRLYg2yRy9epVrFmzBsOGDcPJkydx9OhRnDlzBiEhIRg2bJjYTkRERGS3ZBvY0tPT4erqiq5du8LJyQkA4OXlhc8//xyHDh0S24mIiIrMlllSnGMjW5BtYHN0dIRerzc5h02j0eDChQsIDAwU24mIiIoegmtBEdmCbANbUFAQypcvj59++gnLli3D2rVrMW/ePCxYsABDhw4V24mIiIBiNhGYW0S2INvAVq5cOQwaNAhVq1bF/v37sW7dOly+fBn/+c9/8O6774rtREREhiVN6z4Y28gWZBfYNm3ahE2bNmHLli24evUqqlSpgpdeeglNmzbFiy++CD8/P0RFRYkvIyIiAorEL/M/iGxBdgfndu/eXRwqwsHBAWvXrhWHn+jYtsP4aehscZhkgAfnyhcPzpU3Wx2c2yrsVWRlWHdw7qrIxahep5o4TGQV2QW2y5cvi0NFKBQKhIWFicNPxMAmXwxs8sXAJm+2CmwtqnVAlpVPOvglcgkDG5U42S2JVq9e/V/LnLBGRETPDwlFd32aW0S2ILvARkREZDHmLbJTDGxEREQG4iG4lhQzH9kCAxsREZGBuOPTkg9O05EtMLAREREZiIfgWlJEtsDARkREZCCh6CYCc4vIFhjYiIiIDB7Okln3QWQLDGxEREQG4myZZSW+K5H1GNiIiIgMpGJ2fZpbRLbAwEZERGTAuEX2ioGNiIjIQJIk6K0sxj6yBQY2IiIiA32RLQSWfBCVPAY2IiIig5KZYSMqeQxsRERERHaOgY2IiMhAL4l7Ps0vIltgYCMiIjISz1Qzv7jpgGyBgY2IiMhA3D5g2QdRyWNgIyIiMhA3EFhSRLbAwEZERERk5xjYiIiIDIpuITC/iGyBgY2IiMhA3EBgWYnvSmQ9BjYiIiIiO8fARkREZCBuILCkeKwH2QIDGxERkYF4QIclHyUtPz8fO3bswIIFC7By5UpcuHABOp1ObAMAZGVlYffu3Vi6dCkWLlyIjRs3IiEhAXo9D/R91jGwERERPVLkfjTzq6QtWbIEP/74I65du4YDBw4gIiIC586dE9sgSRLu3r2LNWvW4PLly4iLi8P69esxZ84cpKeni+30jGFgIyIiMtCXyCxbyUlMTMS0adPw+uuv49NPP8VHH32E/Px8REZGIjc316RXoVAgMDAQgwcPxujRozFmzBj07dsX+/btQ2xsrE3CJP3/YWAjIiIykIq5J83cKizUIicnBxqNBhqNBrm5uU9cwvw3p06dQmZmJvr06YNSpUqhVq1aCA8PR0xMDJKTk8V2+Pj4oFGjRggMDISPjw8qVKgAvV7PsCYDDGxEREQlaO3va9GgQQPUqFEDNWrUQJs2bRAZGSm2PZW4uDgEBATA3d0dAKBWq+Hj44O8vDxkZ2eL7SYKCwuxadMmlCtXDmXKlIFCoRBb6BnCwEZERGQgzpZZUj1efx1HjhzB6dOncfr0aezYsQNt27YVPxW+//57ODg4PLGWLVuGvLw8qNVqk9c9Cl7/NGum1+uxZs0a7Ny5E6NGjULZsmXFFnrGMLAREREZiBsILCknJyf4+PjA19cXvr6+8Pb2hqOjo/ipMGDAAFy+fPmJ9frrryMkJASJiYnQarWAIYhlZWXBwcEBrq6u4lsChl2l69evx+rVqzFq1Cg0a9YMSiV/3D/r+B0kIiL6H/D29kblypWfWJ6ennjhhRegVCqxc+dOaDQa3Lx5E+fOnUPFihUREBAAAIiJiUFaWhoAIC8vD1u3bsWyZcvQp08ftG/fHpIk8VgPGWBgIyIiMhCfC2pJlaTg4GB89NFHiIiIwMKFCzF//nxkZGSgbdu2cHNzAwwzdbt27YIkSbh06RImTZoEvV6PvLw8rFu3Dr/88gtu3rwJ6R+WUMn+MbAREREZiMubllRJGz9+PHr37o179+7By8sLw4YNQ5MmTYzXX3nlFVSoUAGSYTm2devWqFatGi5duoRTp07h1KlTePDggcl70rNHIdnib5fMHNt2GD8NnS0Okwzcyk3BsfQb4jDJwID/dMa8b8eKwyQTKjdfKF28xWGrBZWti4z0THHYLAcPb0W98FriMJFVOMNGRERkIElFlzjNrZI9OpfoIQY2IiIiAz2KHtNhbhHZAgMbERGRAfMW2SsGNiIiIqOimwjMLSJbYGAjIiIykCTxQe6WfBCVPAY2IiIiA4YtslcMbERERAbi8qYlxdRHtsDARkREZFQ0gJlbTGxkCwxsREREBo/iljVFZAt80sFTSLmTjCvHL4nDsqTTFSIyMgrt27eDWu0gXpYdjS4PyQXZ4rAs6XSF2LlzJzp0eBVqtVq8LDuVKwahUYOa4rBsFWq12BUZiVc7dIDqOfj+KtSOUKgcxWGrrV23BQUFWnHYLK+92hq+vj7iMJFVGNjIRE5ODlq0aIF9+/bB3d1dvEzPsJycHDRt2hSHDx/m91aGsrOz8fLLL+PIkSNwdXUVLxPRM45LomRCkiTEx8dDr9eLl+gZp9frcfv2bcM9NiQ3kiTx+0skYwxsRERERHaOgY2KcHFxgUKhEIfpGadQKODi4iIOk4zw+0skX6pJkyZNEgfp+aVQKODn54d69epBpVKJl+kZplAo4O/vj/r16/N7K0NKpRKlSpVCeHg4v79EMsRNB0RERER2jkuiRERERHaOgY2IiIjIzjGwWen69ev44osv8NFHH2HHjh3iZfoHBw8exJQpU1BYWCheMrFu3Tr8+OOP4jA9QUpKCubMmYNjx46Jl+gZNnPmTOzcuVMcJqLnBAOblebPn4+YmBi0bt0alSpVEi/TP7h+/Tp27tz5r2e+hYWFoWHDhuKwTUmShMjISAwbNgzdu3dH3759sWrVKqSlpYmtdic7Oxt//vknbt26JV4ykZ2djcWLF2PhwoXQaq072Z1sLyoqChcvXhSHieg5wcBmoUc/4KKjo9GsWTN06dIFVapUEdueC5IkQafTicMlpmbNmmjSpIk4bFN6vR779+9H+fLl8e6776JZs2ZYvnw5/vjjD+Tm5ortzyStVosbN27g2rVr/xqaiYjof+u5DGzr169HeHg4/P39Ubt2bfz888/48ccfMWjQIMTHxwOGH9h9+vTBzJkzAQDLli1D//798fHHH6NGjRoYMGAA3NzccPDgQYwePRqNGzfGnj17EBkZiddeew1ly5ZFWFgYJk2aZLLkFxcXhzFjxqBixYooW7YsunXrhoKCAgBAfHw8Bg4ciPLly6NGjRr44YcfkJ6ebnztk1y+fBn9+vVDYGAggoODMWjQIGRnZ0On0yEyMhKtWrVCQEAAXnzxRRw4cAAAcOvWLbRp0wZ//fWX8X1u3ryJBg0a4MSJE4Dh9/rWW28hKCgIderUwfz585GRkQEA+PHHH9G0aVP89NNPqFKlCt555x3k5+fjt99+Q9OmTVGmTBm0adMGZ8+eNb7/9evX0b9/f5QrVw6dOnXCpUuXnupU9kmTJuGtt94CDL/vnj17Yty4cejYsSNCQkIwZMgQJCcniy8ronHjxoiIiED37t1RunRp9OnTB2fPnsW8efNQo0YNNGjQAH/99Rd0Oh1UKhW++uorjBo1Cq+99hree+89tGzZEidPnnwmZtkeuXDhAj744ANUrFgRISEh6Nu3L1JSUqDVahEVFYXZs2fjhx9+gK+vLzp27Gj8+0/2S6vVYseOHWjevDkCAgLQqlUrHDt2DJIkoaCgAN9++y06dOiAqVOnolKlSmjatCn27t37r7ceEJF9e+4CW2JiIvr27Yvhw4fj+PHjmDt3LmrVqgWtVouCggKTAJGfn2+cSSssLMTu3buRm5uL1atXY/Lkybh58ybCw8Mxffp0REVFoWXLlnB2dsbQoUNx4MABzJs3D6tWrUJERAQAICEhATNmzMCVK1ewaNEi7NmzB6+++iqUSiUyMjIwYsQIuLm5YevWrfj++++xYcMGbNy4Efn5+cbfkyg2NhYffvghHB0dsXPnTuzatQutWrWCXq/H33//je+++w7NmzdHVFQU2rdvj969eyMxMREeHh6oVq0a/vrrL+PXvGfPHgQGBqJSpUrIzc1F3759ERQUhF27dmHKlClYv349tmzZAq1WC61Wi/Pnz+PUqVPYuHEjpk6divXr12PVqlUYMWIE9u/fj/bt26Ndu3a4f/8+UlNTMX/+fKSlpeHXX39F7969ERkZiczMTPFLKqKgoMD4Z6DX63Hz5k0cP34cQ4YMwdKlS3H8+HFs2LDhX38g5eXlYfbs2RgwYAA2b96MjIwM9OvXD8nJyVi9ejVefvllTJkyBVlZWQAABwcHqNVqKJVK6PV65ObmwtXV9Zl6cLokSejcuTO2b9+OzZs3Iz09HQMGDIBarUbLli0xZMgQvP/++7h69Sp++eUXlC1bVnwLsjMnT57Et99+i7Zt2yIqKgoNGzbEwIED8eDBA0iShPz8fJw/fx56vR4bNmxAo0aN8N133yExMVF8KyJ6hjx3gS0zMxMuLi6oWLEiHBwcEB4ejiZNmsDBwUFsLSIsLAzvvPMO6tevj4oVKyIgIABqtRoeHh7w8/ODo6MjGjdujLp166KwsBABAQHo0aMHtmzZAgCIiYnBzZs3MXToULRt2xY1atTAoEGDoFarcf78eZw/fx69e/eGSqVCuXLl0LBhQxw+fNg4q1WcXbt2wdXVFV9++SXq16+PmjVronfv3nBxccHZs2fh4+ODAQMGoF69evjyyy8RFBSE5cuXw8PDAy+++CLOnj2LxMRE5OXlYf/+/WjRogVcXV2xe/duJCYmGme2QkNDUbNmTRw/fhypqanGz//999+jdu3acHBwwJEjR1CrVi3UqFEDBQUF6NixI1xdXbFt2zYkJibiwoULGDhwIFq0aIG+ffuiTZs2cHR0fOyreTpeXl7o0qULOnXqhDZt2qB58+Y4e/bsvwY2AOjbty+6dOmCunXrokuXLvD29ka3bt1Qv359vPnmm7hz5w7y8vJMXlNQUIA9e/bgwoULaNmyJXx9fU2u27Pq1aujUaNGUKvVcHBwwNtvv429e/ciMzMTjo6OcHV1haurK/z9/eHt7c0DV+1cbm4uoqOjERAQgEGDBqFevXqYOHEinJ2dsXnzZmNf9erV8dFHH6Fu3bro0aMHUlNTodFoTN6LiJ4tz11gq1y5MgYPHozp06djypQpWLRoEc6fP1/sD3txua5MmTLw8vIyGXtcfn4+IiMj8cUXX2DMmDEYPXo0du7cafyXrUajgVKpLHYWIyYmBvfv38fkyZMxevRojB49GufOnYOHhweUyid/m5KSkhAcHAxXV1eT8fz8fKSkpCAgIAClSpUCAKhUKoSFheHmzZtwdHRE7dq1oVQqceLECZw/fx73799Hs2bN4OTkhEuXLiE1NRXjx483/n4uX74MLy8v42OrgoODjX8emZmZuHfvHrZv346xY8caXxMaGgoHBwcUFBQgLy8P5cqVM/4eK1WqBCcnJ+Ovn5abmxtKly5t/LWXlxeys7OLfL+KU7lyZcDwZ+Hp6QlPT0/jn4+Hhwf0er3JD7aCggIcOXIEv/76K1q3bo0WLVo8MzNser0ep0+fxtSpU43fk4iICEiShPv374vt9AwoKChAUlIS/P39ERAQAABwd3dHcHAw4uLiAMMTLby8vODj4wMY/l7n5eXZ9D5TIrK9JycBmVIqlZg2bRrmzJmDFi1a4NSpU5g7dy4ePHiAwsJC483Xer3eZCYJhiWyf5qBuHPnDn7//XcEBwdj5syZWLFiBTp37mz8P0pnZ2eoVCrjktvjfHx8UKZMGcyZMwcrV67EypUr8csvv2DixIn/OKPj5eWFrKysIrv8VCoVXF1dkZOTg5ycHMDwNaWkpBj/j7xMmTKoVKkSTpw4gX379iE4OBjBwcHGx1OVLVsWCxcuNPn9jBkzxhhwnJ2djZ/P0dERnp6e6NWrF5YuXWp8zW+//YYePXpApVJBrVabfO1paWkW/RBRKBQmIVahUDxVWANgErYUCkWR94LhzwmGe4WOHDmCZcuWoU6dOujXr98/BnZ7k5ubi40bNyItLQ1jx47FkiVLMG7cOMCwxP/oa3/aPzv631OpVHBzc0NOTo7xHxYFBQXIzMyEt7c38IT/Pojo2ffcBbaEhAQcPHgQ3t7eaN26NerXr4+0tDR4eXnh/v37uHTpEu7fv48tW7bg9u3b4sv/UX5+PgoKCuDn5wcfHx/cuXMHhw4dMl4PCgqCr68vtm/fjmvXriEpKQl///039Ho96tWrBz8/P+zYscMYsBISEnDnzp1iZ/8eady4MZKSkrB9+3bcvXsX9+/fN97oX7VqVSQlJWHfvn1ISEhAZGQkrl69ildffRUA4Ovri7p16+LUqVPYunUrwsPD4efnBwBo2bIllEolIiMjjfePxcfH4969e8WGrICAANSsWROXL1/G1atXoVAoUFBQgPPnzyMrKws+Pj4IDg7G7t27ERsbi9OnT+PIkSNFlh/thSRJOHr0KCIiIlC+fHn07NkTTk5OyM3NfWZ2VOp0OuTm5sLd3R3+/v7IyckxOcfLwcEB7u7uSE1NRVJSEvLy8hje7JyLiwtq1KiBe/fuISoqCgkJCdi6dSvu37+P5s2bi+1EJCPPXWBLT0/HkiVLMHr0aIwaNQrR0dHo0KEDunfvjtq1a2PBggUYM2YMoqOjERQUJL78HwUHB+Pll1/Gnj17MHLkSCxbtsy4BAcAFSpUQK9evRAfH4/x48fj448/xpIlS6DT6RAUFISPP/4YJ0+exLhx4zBy5EhEREQgJiam2ID0SP369dG7d2/s3r0bI0aMwCeffIK1a9eisLAQjRs3RvPmzfHbb79hxIgRmDt3Lvr164emTZsChtmm6tWrQ6vVIj09HXXq1IGLiwtgWK4cM2YM/vzzT+Of1fz583Hjxo1iA4ubmxu6d++OKlWqYMGCBRg2bBg+/fRTrFu3Djk5OQgICEDPnj1x9epVjB49GvPnz4eHh4dF97D9f9DpdFiwYAH+/PNPHD16FJ999hnef/99zJo1CykpKWK7XXJzc0OrVq2QmJiIcePG4ZtvvjHOwsAwQ/roHyyffPIJZs+eXWRWmeyLSqVCo0aN0KJFC6xcuRIjRozAsmXL8M4776B27dpiOxHJyHP38PecnBxcuXIFmZmZkCQJPj4+qFChAry8vHD37l3ExcWhsLAQ5cuXR2ZmJjw9PVGxYkXcvXsXaWlpCA0NNblf7Pjx4yhXrpzx3qyUlBTExsZCo9HAx8cHvr6+iI+Px0svvQQYlqni4uKQlJQESZLg5eWFunXrQqlUIj8/Hzdu3EBycjL0ej3c3d1RoUIF+Pn5FVm2e1x2djZu3LiB1NRUKJVK+Pv7IywsDEqlEqmpqYiNjUV2djbc3NxQtWpV45IoDH8e165dQ35+PsLCwuDp6Wm8lpeXh2vXrhl/iD/6/Tz6mu7du2dyPpper0dycjLi4uKQnZ0NtVoNX19fVKlSBU5OTsjJycH169fx4MEDeHh4wMPDAxkZGWjQoME/fn3Xrl1DTk4O6tati9zcXFy9ehWlS5c23scWGxuLnJwcVK9e/R+XrI8dO4aQkBCUKVMGkiQhKSkJiYmJqF69OpycnJCdnY2zZ88iPDwcLi4uOHHiRJENH76+vqhRo4Yx2Nqjx/+M3N3dERsbi9TUVONmm4sXL6Jx48Zwc3NDVlaW8bqXlxdq1qxpstRN9iM6OhqlSpVC+fLlTf5/xt3dHVWrVoW3tzf0ej3i4uKQlZWFOnXqAACysrJw8eJF1K5dG25ubuLbEtEz4rkLbERERETPmidPa5DdGDZsGMqWLYvAwECT6tGjB86fPy+2P5PEr+1RLViw4KmfLLBhw4Yirw8MDET16tVx+PBhsZ2IiOiZwRm2Z0BycnKxx1a4uLjA19fXoqMx7E1sbKw4BADw8/ODp6fnU+1002g0SEpKEoehUqkQGBjIpT4iInpmMbARERER2TkuiRIRERHZOQY2IiIiIjvHwEZERERk5xjYiIiIiOwcAxsRERGRnWNgIyIiIrJzDGxEREREdo6BjYiIiMjOMbARERER2TkGNiIiIiI7x8BGREREZOcY2IiIiIjsHAMbERERkZ1jYCMiIiKycwxsRERERHaOgY2IiIjIzjGwEREREdm5/wOHhvKTMdpTSQAAAABJRU5ErkJggg==)"
      ],
      "metadata": {
        "id": "AN4SoXa6FdpE"
      }
    },
    {
      "cell_type": "code",
      "source": [],
      "metadata": {
        "id": "b3tyuN2zFeLv"
      },
      "execution_count": null,
      "outputs": []
    }
  ]
}
