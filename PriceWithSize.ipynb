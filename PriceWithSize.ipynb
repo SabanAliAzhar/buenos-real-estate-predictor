{
  "nbformat": 4,
  "nbformat_minor": 0,
  "metadata": {
    "colab": {
      "provenance": []
    },
    "kernelspec": {
      "name": "python3",
      "display_name": "Python 3"
    },
    "language_info": {
      "name": "python"
    }
  },
  "cells": [
    {
      "cell_type": "markdown",
      "source": [
        "# Predicting Price with Size"
      ],
      "metadata": {
        "id": "9jVIgi33YOri"
      }
    },
    {
      "cell_type": "markdown",
      "source": [
        "### Import Libraries"
      ],
      "metadata": {
        "id": "IJa9EUM5Y7BX"
      }
    },
    {
      "cell_type": "markdown",
      "source": [
        "Given a real estate dataset containing property listings in Buenos Aires, the goal is to focus the analysis on a subset of the data that includes only apartments located in \"Capital Federal\" with a price below $400,000 USD.\n",
        "\n",
        " After filtering the data accordingly, the objective is to:\n",
        "\n",
        "1.   Analyze the relationship between property characteristics and price.\n",
        "2.   Develop a linear regression model to predict apartment prices based on the covered surface area.\n",
        "\n",
        "\n",
        "This task involves data cleaning, filtering, exploratory data analysis, and applying a simple machine learning model for price prediction."
      ],
      "metadata": {
        "id": "8joRA4uOaEYq"
      }
    },
    {
      "cell_type": "code",
      "source": [
        "import warnings\n",
        "\n",
        "import matplotlib.pyplot as plt\n",
        "import pandas as pd\n",
        "from sklearn.linear_model import LinearRegression\n",
        "from sklearn.metrics import mean_absolute_error\n",
        "from sklearn.utils.validation import check_is_fitted\n",
        "\n",
        "warnings.simplefilter(action=\"ignore\", category=FutureWarning)"
      ],
      "metadata": {
        "id": "HJyoSWyWY50Q"
      },
      "execution_count": 1,
      "outputs": []
    },
    {
      "cell_type": "markdown",
      "source": [
        "# Prepare Data"
      ],
      "metadata": {
        "id": "LRSHJAUbZIsg"
      }
    },
    {
      "cell_type": "code",
      "source": [
        "def wrangle(filepath):\n",
        "    df=pd.read_csv(filepath)\n",
        "    apt_mask=df[\"property_type\"]==\"apartment\"\n",
        "    price_mask=df[\"price_aprox_usd\"]<400_000\n",
        "    city_mask=df[\"place_with_parent_names\"].astype(str).str.split(\"|\",expand=True)[2]==\"Capital Federal\"\n",
        "\n",
        "    df=df[apt_mask&price_mask&city_mask]\n",
        "    min,max=df[\"surface_covered_in_m2\"].quantile([0.1,0.9])\n",
        "    quan_mask=df[\"surface_covered_in_m2\"].between(min,max)\n",
        "\n",
        "    return df[quan_mask]"
      ],
      "metadata": {
        "id": "6J5kV2CRYPOd"
      },
      "execution_count": null,
      "outputs": []
    },
    {
      "cell_type": "code",
      "source": [
        "df = wrangle(\"data/buenos-aires-real-estate-1.csv\")\n",
        "print(\"df shape:\", df.shape)\n",
        "df.head()"
      ],
      "metadata": {
        "id": "RrzGx-jfaeZp"
      },
      "execution_count": null,
      "outputs": []
    },
    {
      "cell_type": "markdown",
      "source": [
        "#Explore"
      ],
      "metadata": {
        "id": "8FZD3uf0ajqx"
      }
    },
    {
      "cell_type": "markdown",
      "source": [
        "##histogram of \"surface_covered_in_m2\""
      ],
      "metadata": {
        "id": "CEbWIkx2awZb"
      }
    },
    {
      "cell_type": "code",
      "source": [
        "plt.hist(df[\"surface_covered_in_m2\"])\n",
        "plt.xlabel(\"Area [sq meters]\")\n",
        "plt.title(\"Distribution of Apartment Sizes\");"
      ],
      "metadata": {
        "id": "e84eyFcpak5u"
      },
      "execution_count": null,
      "outputs": []
    },
    {
      "cell_type": "markdown",
      "source": [
        "## summary statistics for df"
      ],
      "metadata": {
        "id": "eozg3C-Yaz-0"
      }
    },
    {
      "cell_type": "code",
      "source": [
        "df.describe()"
      ],
      "metadata": {
        "id": "aeVUq6K_aoQ5"
      },
      "execution_count": null,
      "outputs": []
    },
    {
      "cell_type": "markdown",
      "source": [
        "## scatter plot that shows price (\"price_aprox_usd\") vs area (\"surface_covered_in_m2\")"
      ],
      "metadata": {
        "id": "rIntFtwCa_ps"
      }
    },
    {
      "cell_type": "code",
      "source": [
        "plt.scatter(df[\"surface_covered_in_m2\"],df[\"price_aprox_usd\"])\n",
        "plt.xlabel(\"Area [sq meters]\")\n",
        "plt.ylabel(\"Price [USD]\");"
      ],
      "metadata": {
        "id": "730MLSHfbArN"
      },
      "execution_count": null,
      "outputs": []
    },
    {
      "cell_type": "markdown",
      "source": [
        "#Split"
      ],
      "metadata": {
        "id": "q18DqZS8bFTm"
      }
    },
    {
      "cell_type": "code",
      "source": [
        "features = [\"surface_covered_in_m2\"]\n",
        "X_train = df[features]\n",
        "target = \"price_aprox_usd\"\n",
        "y_train = df[target]"
      ],
      "metadata": {
        "id": "Q9WvY85-bHGu"
      },
      "execution_count": null,
      "outputs": []
    },
    {
      "cell_type": "markdown",
      "source": [
        "#Build Model"
      ],
      "metadata": {
        "id": "TiHL1X-ibQEd"
      }
    },
    {
      "cell_type": "markdown",
      "source": [
        "##Baseline"
      ],
      "metadata": {
        "id": "x6yr8gQTbUSd"
      }
    },
    {
      "cell_type": "code",
      "source": [
        "y_mean = y_train.mean()\n",
        "y_pred_baseline = [y_mean]*len(y_train)"
      ],
      "metadata": {
        "id": "d6OHy1UjbQ3j"
      },
      "execution_count": null,
      "outputs": []
    },
    {
      "cell_type": "markdown",
      "source": [
        "relationship between the observations X_train and our dumb model's predictions y_pred_baseline"
      ],
      "metadata": {
        "id": "kq7iLqs5bkXf"
      }
    },
    {
      "cell_type": "code",
      "source": [
        "plt.plot(X_train,y_pred_baseline,color=\"magenta\",label=\"baseline model\")\n",
        "plt.scatter(X_train, y_train)\n",
        "plt.xlabel(\"Area [sq meters]\")\n",
        "plt.ylabel(\"Price [USD]\")\n",
        "plt.title(\"Buenos Aires: Price vs. Area\")\n",
        "plt.legend();"
      ],
      "metadata": {
        "id": "iCeE4EsdblQG"
      },
      "execution_count": null,
      "outputs": []
    },
    {
      "cell_type": "markdown",
      "source": [
        "mean absolute error for your predictions in y_pred_baseline"
      ],
      "metadata": {
        "id": "TmTW5zKXbxIo"
      }
    },
    {
      "cell_type": "code",
      "source": [
        "mae_baseline = mean_absolute_error(y_train,y_pred_baseline)\n",
        "\n",
        "print(\"Mean apt price\", round(y_mean, 2))\n",
        "print(\"Baseline MAE:\", round(mae_baseline, 2))"
      ],
      "metadata": {
        "id": "kVtyWQyQbxl8"
      },
      "execution_count": null,
      "outputs": []
    },
    {
      "cell_type": "markdown",
      "source": [
        "#Iterate"
      ],
      "metadata": {
        "id": "yhi07vyXb1o1"
      }
    },
    {
      "cell_type": "code",
      "source": [
        "model = LinearRegression()\n",
        "model.fit(X_train,y_train)"
      ],
      "metadata": {
        "id": "mpbvrr1Hb2ka"
      },
      "execution_count": null,
      "outputs": []
    },
    {
      "cell_type": "markdown",
      "source": [
        "#Evaluate"
      ],
      "metadata": {
        "id": "EsImI36Qb88e"
      }
    },
    {
      "cell_type": "code",
      "source": [
        "y_pred_training = model.predict(X_train)\n",
        "mae_training = mean_absolute_error(y_train,y_pred_training)\n",
        "print(\"Training MAE:\", round(mae_training, 2))"
      ],
      "metadata": {
        "id": "q2nelFchb9rs"
      },
      "execution_count": null,
      "outputs": []
    },
    {
      "cell_type": "markdown",
      "source": [
        "#Communicate Results"
      ],
      "metadata": {
        "id": "4negnKo1cPFd"
      }
    },
    {
      "cell_type": "code",
      "source": [
        "intercept = model.intercept_\n",
        "print(\"Model Intercept:\", intercept)\n",
        "coefficient = model.coef_[0]\n",
        "print('Model coefficient for \"surface_covered_in_m2\":', coefficient)\n",
        "print(f\"apartment_price = {intercept} + {coefficient} * surface_covered\")"
      ],
      "metadata": {
        "id": "rzeS7CkucP7F"
      },
      "execution_count": null,
      "outputs": []
    },
    {
      "cell_type": "markdown",
      "source": [
        "Relationship between the observations in X_train and your model's predictions y_pred_training\n"
      ],
      "metadata": {
        "id": "IqC7NwVOccfc"
      }
    },
    {
      "cell_type": "code",
      "source": [
        "plt.plot(X_train,y_pred_training,color=\"magenta\",label=\"model_prediction\")\n",
        "plt.scatter(X_train, y_train)\n",
        "plt.xlabel(\"surface covered [sq meters]\")\n",
        "plt.ylabel(\"price [usd]\")\n",
        "plt.legend();"
      ],
      "metadata": {
        "id": "sIiKmkdKceTL"
      },
      "execution_count": null,
      "outputs": []
    }
  ]
}